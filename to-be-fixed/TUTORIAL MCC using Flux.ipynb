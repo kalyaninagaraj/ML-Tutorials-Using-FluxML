{
 "cells": [
  {
   "cell_type": "markdown",
   "metadata": {},
   "source": [
    "### Preliminaries"
   ]
  },
  {
   "cell_type": "code",
   "execution_count": 2,
   "metadata": {},
   "outputs": [],
   "source": [
    "using Flux, Statistics\n",
    "using Flux: crossentropy, normalise, onecold, onehotbatch\n",
    "using Statistics: mean"
   ]
  },
  {
   "cell_type": "code",
   "execution_count": 5,
   "metadata": {},
   "outputs": [
    {
     "data": {
      "text/plain": [
       "((4, 150), (150,))"
      ]
     },
     "execution_count": 5,
     "metadata": {},
     "output_type": "execute_result"
    }
   ],
   "source": [
    "# Read Iris data using Flux's inbuilt function\n",
    "features = Flux.Data.Iris.features()\n",
    "labels = Flux.Data.Iris.labels();\n",
    "\n",
    "size(features), size(labels)"
   ]
  },
  {
   "cell_type": "code",
   "execution_count": 60,
   "metadata": {},
   "outputs": [
    {
     "data": {
      "text/plain": [
       "4×150 Array{Float64,2}:\n",
       " -0.900681  -1.14302   -1.38535   …   0.795669  0.432165   0.0686618\n",
       "  1.03206   -0.124958   0.337848     -0.124958  0.800654  -0.124958 \n",
       " -1.34127   -1.34127   -1.39814       0.819624  0.933356   0.762759 \n",
       " -1.31298   -1.31298   -1.31298       1.05354   1.44796    0.790591 "
      ]
     },
     "execution_count": 60,
     "metadata": {},
     "output_type": "execute_result"
    }
   ],
   "source": [
    "# Normalize data\n",
    "# Subract mean, divide by std dev for normed mean of 0 and std dev of 1.\n",
    "normed_features = normalise(features, dims=2)"
   ]
  },
  {
   "cell_type": "code",
   "execution_count": 61,
   "metadata": {},
   "outputs": [
    {
     "data": {
      "text/plain": [
       "3×150 Flux.OneHotMatrix{Array{Flux.OneHotVector,1}}:\n",
       "  true   true   true   true   true  …  false  false  false  false  false\n",
       " false  false  false  false  false     false  false  false  false  false\n",
       " false  false  false  false  false      true   true   true   true   true"
      ]
     },
     "execution_count": 61,
     "metadata": {},
     "output_type": "execute_result"
    }
   ],
   "source": [
    "# One-hot encode the outcome labels\n",
    "klasses = sort(unique(labels))\n",
    "onehot_labels = onehotbatch(labels, klasses)"
   ]
  },
  {
   "cell_type": "code",
   "execution_count": 62,
   "metadata": {},
   "outputs": [
    {
     "data": {
      "text/plain": [
       "3×50 Flux.OneHotMatrix{Array{Flux.OneHotVector,1}}:\n",
       "  true   true   true   true   true  …  false  false  false  false  false\n",
       " false  false  false  false  false     false  false  false  false  false\n",
       " false  false  false  false  false      true   true   true   true   true"
      ]
     },
     "execution_count": 62,
     "metadata": {},
     "output_type": "execute_result"
    }
   ],
   "source": [
    "# Split into training and test sets, 2/3 for training, 1/3 for test.\n",
    "train_indices = [1:3:150 ; 2:3:150]\n",
    "\n",
    "X_train = normed_features[:, train_indices]\n",
    "y_train = onehot_labels[:, train_indices]\n",
    "\n",
    "X_test = normed_features[:, 3:3:150]\n",
    "y_test = onehot_labels[:, 3:3:150]"
   ]
  },
  {
   "cell_type": "code",
   "execution_count": 63,
   "metadata": {},
   "outputs": [
    {
     "data": {
      "text/plain": [
       "Chain(Dense(4, 3), NNlib.softmax)"
      ]
     },
     "execution_count": 63,
     "metadata": {},
     "output_type": "execute_result"
    }
   ],
   "source": [
    "# Declare model taking 4 features as inputs and outputting 3 probabiltiies, \n",
    "# one for each species of iris.\n",
    "model = Chain(\n",
    "    Dense(4, 3),\n",
    "    softmax\n",
    ")"
   ]
  },
  {
   "cell_type": "code",
   "execution_count": 64,
   "metadata": {},
   "outputs": [
    {
     "data": {
      "text/plain": [
       "loss (generic function with 1 method)"
      ]
     },
     "execution_count": 64,
     "metadata": {},
     "output_type": "execute_result"
    }
   ],
   "source": [
    "# Define the objective function\n",
    "loss(x, y) = crossentropy(model(x), y)"
   ]
  },
  {
   "cell_type": "code",
   "execution_count": 65,
   "metadata": {},
   "outputs": [
    {
     "data": {
      "text/plain": [
       "Descent(0.5)"
      ]
     },
     "execution_count": 65,
     "metadata": {},
     "output_type": "execute_result"
    }
   ],
   "source": [
    "# Gradient descent optimiser with learning rate 0.5.\n",
    "optimiser = Descent(0.5)\n"
   ]
  },
  {
   "cell_type": "code",
   "execution_count": 66,
   "metadata": {},
   "outputs": [
    {
     "data": {
      "text/plain": [
       "evalcb (generic function with 1 method)"
      ]
     },
     "execution_count": 66,
     "metadata": {},
     "output_type": "execute_result"
    }
   ],
   "source": [
    "# Create iterator to train model over 110 epochs.\n",
    "data_iterator = Iterators.repeated((X_train, y_train), 110)\n",
    "\n",
    "# Call back\n",
    "accuracy(x, y) = mean(onecold(model(x)) .== onecold(y))\n",
    "evalcb() = @show(accuracy(X_test, y_test))"
   ]
  },
  {
   "cell_type": "code",
   "execution_count": 67,
   "metadata": {},
   "outputs": [
    {
     "name": "stdout",
     "output_type": "stream",
     "text": [
      "Starting training.\n",
      "accuracy(X_test, y_test) = 0.48\n",
      "accuracy(X_test, y_test) = 0.44\n",
      "accuracy(X_test, y_test) = 0.62\n",
      "accuracy(X_test, y_test) = 0.66\n",
      "accuracy(X_test, y_test) = 0.68\n",
      "accuracy(X_test, y_test) = 0.76\n",
      "accuracy(X_test, y_test) = 0.78\n",
      "accuracy(X_test, y_test) = 0.82\n",
      "accuracy(X_test, y_test) = 0.8\n",
      "accuracy(X_test, y_test) = 0.8\n",
      "accuracy(X_test, y_test) = 0.76\n",
      "accuracy(X_test, y_test) = 0.8\n",
      "accuracy(X_test, y_test) = 0.8\n",
      "accuracy(X_test, y_test) = 0.8\n",
      "accuracy(X_test, y_test) = 0.8\n",
      "accuracy(X_test, y_test) = 0.8\n",
      "accuracy(X_test, y_test) = 0.8\n",
      "accuracy(X_test, y_test) = 0.8\n",
      "accuracy(X_test, y_test) = 0.82\n",
      "accuracy(X_test, y_test) = 0.82\n",
      "accuracy(X_test, y_test) = 0.82\n",
      "accuracy(X_test, y_test) = 0.82\n",
      "accuracy(X_test, y_test) = 0.82\n",
      "accuracy(X_test, y_test) = 0.82\n",
      "accuracy(X_test, y_test) = 0.82\n",
      "accuracy(X_test, y_test) = 0.82\n",
      "accuracy(X_test, y_test) = 0.82\n",
      "accuracy(X_test, y_test) = 0.82\n",
      "accuracy(X_test, y_test) = 0.82\n",
      "accuracy(X_test, y_test) = 0.84\n",
      "accuracy(X_test, y_test) = 0.84\n",
      "accuracy(X_test, y_test) = 0.84\n",
      "accuracy(X_test, y_test) = 0.84\n",
      "accuracy(X_test, y_test) = 0.86\n",
      "accuracy(X_test, y_test) = 0.86\n",
      "accuracy(X_test, y_test) = 0.86\n",
      "accuracy(X_test, y_test) = 0.86\n",
      "accuracy(X_test, y_test) = 0.86\n",
      "accuracy(X_test, y_test) = 0.86\n",
      "accuracy(X_test, y_test) = 0.86\n",
      "accuracy(X_test, y_test) = 0.86\n",
      "accuracy(X_test, y_test) = 0.86\n",
      "accuracy(X_test, y_test) = 0.86\n",
      "accuracy(X_test, y_test) = 0.86\n",
      "accuracy(X_test, y_test) = 0.86\n",
      "accuracy(X_test, y_test) = 0.86\n",
      "accuracy(X_test, y_test) = 0.86\n",
      "accuracy(X_test, y_test) = 0.86\n",
      "accuracy(X_test, y_test) = 0.86\n",
      "accuracy(X_test, y_test) = 0.86\n",
      "accuracy(X_test, y_test) = 0.86\n",
      "accuracy(X_test, y_test) = 0.88\n",
      "accuracy(X_test, y_test) = 0.88\n",
      "accuracy(X_test, y_test) = 0.88\n",
      "accuracy(X_test, y_test) = 0.88\n",
      "accuracy(X_test, y_test) = 0.88\n",
      "accuracy(X_test, y_test) = 0.88\n",
      "accuracy(X_test, y_test) = 0.88\n",
      "accuracy(X_test, y_test) = 0.88\n",
      "accuracy(X_test, y_test) = 0.88\n",
      "accuracy(X_test, y_test) = 0.88\n",
      "accuracy(X_test, y_test) = 0.88\n",
      "accuracy(X_test, y_test) = 0.88\n",
      "accuracy(X_test, y_test) = 0.88\n",
      "accuracy(X_test, y_test) = 0.88\n",
      "accuracy(X_test, y_test) = 0.88\n",
      "accuracy(X_test, y_test) = 0.88\n",
      "accuracy(X_test, y_test) = 0.88\n",
      "accuracy(X_test, y_test) = 0.88\n",
      "accuracy(X_test, y_test) = 0.9\n",
      "accuracy(X_test, y_test) = 0.9\n",
      "accuracy(X_test, y_test) = 0.9\n",
      "accuracy(X_test, y_test) = 0.9\n",
      "accuracy(X_test, y_test) = 0.9\n",
      "accuracy(X_test, y_test) = 0.92\n",
      "accuracy(X_test, y_test) = 0.92\n",
      "accuracy(X_test, y_test) = 0.92\n",
      "accuracy(X_test, y_test) = 0.92\n",
      "accuracy(X_test, y_test) = 0.92\n",
      "accuracy(X_test, y_test) = 0.92\n",
      "accuracy(X_test, y_test) = 0.92\n",
      "accuracy(X_test, y_test) = 0.92\n",
      "accuracy(X_test, y_test) = 0.92\n",
      "accuracy(X_test, y_test) = 0.92\n",
      "accuracy(X_test, y_test) = 0.92\n",
      "accuracy(X_test, y_test) = 0.92\n",
      "accuracy(X_test, y_test) = 0.92\n",
      "accuracy(X_test, y_test) = 0.92\n",
      "accuracy(X_test, y_test) = 0.92\n",
      "accuracy(X_test, y_test) = 0.92\n",
      "accuracy(X_test, y_test) = 0.92\n",
      "accuracy(X_test, y_test) = 0.92\n",
      "accuracy(X_test, y_test) = 0.94\n",
      "accuracy(X_test, y_test) = 0.94\n",
      "accuracy(X_test, y_test) = 0.94\n",
      "accuracy(X_test, y_test) = 0.94\n",
      "accuracy(X_test, y_test) = 0.94\n",
      "accuracy(X_test, y_test) = 0.94\n",
      "accuracy(X_test, y_test) = 0.94\n",
      "accuracy(X_test, y_test) = 0.94\n",
      "accuracy(X_test, y_test) = 0.94\n",
      "accuracy(X_test, y_test) = 0.94\n",
      "accuracy(X_test, y_test) = 0.94\n",
      "accuracy(X_test, y_test) = 0.94\n",
      "accuracy(X_test, y_test) = 0.94\n",
      "accuracy(X_test, y_test) = 0.94\n",
      "accuracy(X_test, y_test) = 0.94\n",
      "accuracy(X_test, y_test) = 0.94\n",
      "accuracy(X_test, y_test) = 0.94\n",
      "accuracy(X_test, y_test) = 0.94\n",
      "\n",
      "Training ccuracy: 0.97\n"
     ]
    }
   ],
   "source": [
    "println(\"Starting training.\")\n",
    "# Flux.train!(loss, params(model), data_iterator, optimiser, cb = Flux.throttle(evalcb, 10))\n",
    "Flux.train!(loss, params(model), data_iterator, optimiser, cb = evalcb)\n",
    "# Flux.train!(loss, params(model), data_iterator, optimiser, cb = () -> println(\"training\"))\n",
    "\n",
    "println(\"\\nTraining ccuracy: $(accuracy(X_train, y_train))\")"
   ]
  },
  {
   "cell_type": "code",
   "execution_count": 68,
   "metadata": {},
   "outputs": [
    {
     "data": {
      "text/plain": [
       "3×3 Array{Int64,2}:\n",
       " 16   0   0\n",
       "  0  16   1\n",
       "  0   2  15"
      ]
     },
     "metadata": {},
     "output_type": "display_data"
    }
   ],
   "source": [
    "function confusion_matrix(X, y)\n",
    "    ŷ = onehotbatch(onecold(model(X)), 1:3)\n",
    "    y * ŷ'\n",
    "end\n",
    "display(confusion_matrix(X_test, y_test))"
   ]
  }
 ],
 "metadata": {
  "kernelspec": {
   "display_name": "Julia 1.1.1",
   "language": "julia",
   "name": "julia-1.1"
  },
  "language_info": {
   "file_extension": ".jl",
   "mimetype": "application/julia",
   "name": "julia",
   "version": "1.1.1"
  }
 },
 "nbformat": 4,
 "nbformat_minor": 2
}
