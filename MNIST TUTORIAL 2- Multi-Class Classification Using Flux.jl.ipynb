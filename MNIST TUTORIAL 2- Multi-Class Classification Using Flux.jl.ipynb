{
 "cells": [
  {
   "cell_type": "markdown",
   "metadata": {},
   "source": [
    "# TUTORIAL 2\n",
    "## Multi-Class Classification Using The Flux.jl Package On MNIST Data"
   ]
  },
  {
   "cell_type": "markdown",
   "metadata": {},
   "source": [
    "### Preliminaries: Include packages and user-defined functions"
   ]
  },
  {
   "cell_type": "code",
   "execution_count": 1,
   "metadata": {},
   "outputs": [
    {
     "data": {
      "text/plain": [
       "readclassjson (generic function with 1 method)"
      ]
     },
     "execution_count": 1,
     "metadata": {},
     "output_type": "execute_result"
    }
   ],
   "source": [
    "using LinearAlgebra, Random, Statistics, Flux\n",
    "using Flux: crossentropy, onecold, onehotbatch, throttle\n",
    "using Base.Iterators: repeated\n",
    "include(\"myJuliaLib/MNIST.jl\")         # contains function `dispMNISTPatches`\n",
    "include(\"myJuliaLib/readclassjson.jl\") # contains function `readclassjson`"
   ]
  },
  {
   "cell_type": "markdown",
   "metadata": {},
   "source": [
    "### Load training and test data from JSON files"
   ]
  },
  {
   "cell_type": "code",
   "execution_count": 2,
   "metadata": {},
   "outputs": [
    {
     "data": {
      "text/plain": [
       "Dict{Any, Any} with 2 entries:\n",
       "  \"X\" => [0 0 … 0 0; 0 0 … 0 0; … ; 0 0 … 0 0; 0 0 … 0 0]\n",
       "  \"y\" => [7, 2, 1, 0, 4, 1, 4, 9, 5, 9  …  7, 8, 9, 0, 1, 2, 3, 4, 5, 6]"
      ]
     },
     "execution_count": 2,
     "metadata": {},
     "output_type": "execute_result"
    }
   ],
   "source": [
    "cd(@__DIR__)\n",
    "isfile(\"MNIST_train.json\") || MNIST2json()\n",
    "\n",
    "MNIST_train = readclassjson(\"JSON/MNIST_train.json\")\n",
    "MNIST_test  = readclassjson(\"JSON/MNIST_test.json\")"
   ]
  },
  {
   "cell_type": "markdown",
   "metadata": {},
   "source": [
    "### Embed data by scaling pixel values to appear on the [0,1] interval "
   ]
  },
  {
   "cell_type": "code",
   "execution_count": 3,
   "metadata": {},
   "outputs": [
    {
     "data": {
      "text/plain": [
       "10000"
      ]
     },
     "execution_count": 3,
     "metadata": {},
     "output_type": "execute_result"
    }
   ],
   "source": [
    "# 1. SCALE FEATURES BY 255 SO THAT PIXEL VALUES ARE IN THE RANGE (0,1)\n",
    "x_train = MNIST_train[\"X\"]/255\n",
    "x_test  = MNIST_test[\"X\"]/255\n",
    "\n",
    "# 2. ONE-HOT ENCODE OUTCOMES \n",
    "y_train = MNIST_train[\"y\"];\n",
    "y_test = MNIST_test[\"y\"];\n",
    "Y_train = onehotbatch(y_train, 0:9)\n",
    "Y_test  = onehotbatch(y_test, 0:9);\n",
    "\n",
    "Ntrain, d = size(x_train)\n",
    "Ntest = length(y_test)"
   ]
  },
  {
   "cell_type": "markdown",
   "metadata": {},
   "source": [
    "### Reduce dimension performing Principal Component Analysis (PCA)"
   ]
  },
  {
   "cell_type": "code",
   "execution_count": 4,
   "metadata": {},
   "outputs": [],
   "source": [
    "# Demean the data and perform SVD\n",
    "x_demean = [x_train; x_test] .- mean([x_train; x_test], dims = 1) \n",
    "Ftrain = svd((x_demean' * x_demean) / size(x_demean, 1))\n",
    "lambdas = cumsum(Ftrain.S)/sum(Ftrain.S)     # variance contributed to by first k components, k = 1:d\n",
    "k = searchsortedfirst(lambdas, 0.99)         # find number of components to retain\n",
    "xPCA = x_demean * Ftrain.U[:,1:k];           # reduced dimension representation of training data\n",
    "\n",
    "xPCA_train = xPCA[1:Ntrain, :]\n",
    "xPCA_test  = xPCA[Ntrain+1:Ntrain+Ntest, :];"
   ]
  },
  {
   "cell_type": "markdown",
   "metadata": {},
   "source": [
    "### Train a multi-layer perceptron (that is, a multi-layer neural network) on the reduced-dimension training data "
   ]
  },
  {
   "cell_type": "code",
   "execution_count": 5,
   "metadata": {
    "scrolled": true
   },
   "outputs": [
    {
     "name": "stdout",
     "output_type": "stream",
     "text": [
      "accuracy(x_train', Y_train) = 0.09961666666666667\n",
      "accuracy(x_test', Y_test) = 0.0968\n",
      "accuracy(x_train', Y_train) = 0.1478\n",
      "accuracy(x_test', Y_test) = 0.1462\n",
      "accuracy(x_train', Y_train) = 0.17653333333333332\n",
      "accuracy(x_test', Y_test) = 0.1767\n",
      "accuracy(x_train', Y_train) = 0.21995\n",
      "accuracy(x_test', Y_test) = 0.2212\n",
      "accuracy(x_train', Y_train) = 0.32588333333333336\n",
      "accuracy(x_test', Y_test) = 0.3248\n",
      "accuracy(x_train', Y_train) = 0.43291666666666667\n",
      "accuracy(x_test', Y_test) = 0.437\n",
      "accuracy(x_train', Y_train) = 0.48086666666666666\n",
      "accuracy(x_test', Y_test) = 0.484\n",
      "accuracy(x_train', Y_train) = 0.5231166666666667\n",
      "accuracy(x_test', Y_test) = 0.5264\n",
      "accuracy(x_train', Y_train) = 0.5514\n",
      "accuracy(x_test', Y_test) = 0.552\n",
      "accuracy(x_train', Y_train) = 0.5728333333333333\n",
      "accuracy(x_test', Y_test) = 0.5699\n",
      "accuracy(x_train', Y_train) = 0.5897333333333333\n",
      "accuracy(x_test', Y_test) = 0.5895\n",
      "accuracy(x_train', Y_train) = 0.6030166666666666\n",
      "accuracy(x_test', Y_test) = 0.6043\n",
      "accuracy(x_train', Y_train) = 0.6151\n",
      "accuracy(x_test', Y_test) = 0.6153\n",
      "accuracy(x_train', Y_train) = 0.6254666666666666\n",
      "accuracy(x_test', Y_test) = 0.6282\n",
      "accuracy(x_train', Y_train) = 0.6343333333333333\n",
      "accuracy(x_test', Y_test) = 0.6382\n",
      "accuracy(x_train', Y_train) = 0.6430333333333333\n",
      "accuracy(x_test', Y_test) = 0.6461\n",
      "accuracy(x_train', Y_train) = 0.6510666666666667\n",
      "accuracy(x_test', Y_test) = 0.654\n",
      "accuracy(x_train', Y_train) = 0.658\n",
      "accuracy(x_test', Y_test) = 0.6611\n",
      "accuracy(x_train', Y_train) = 0.6645666666666666\n",
      "accuracy(x_test', Y_test) = 0.6673\n",
      "accuracy(x_train', Y_train) = 0.6709666666666667\n",
      "accuracy(x_test', Y_test) = 0.674\n",
      "accuracy(x_train', Y_train) = 0.6766166666666666\n",
      "accuracy(x_test', Y_test) = 0.6792\n",
      "accuracy(x_train', Y_train) = 0.6820166666666667\n",
      "accuracy(x_test', Y_test) = 0.684\n",
      "accuracy(x_train', Y_train) = 0.6865666666666667\n",
      "accuracy(x_test', Y_test) = 0.69\n",
      "accuracy(x_train', Y_train) = 0.6914666666666667\n",
      "accuracy(x_test', Y_test) = 0.6945\n",
      "accuracy(x_train', Y_train) = 0.6966166666666667\n",
      "accuracy(x_test', Y_test) = 0.6997\n",
      "accuracy(x_train', Y_train) = 0.7006333333333333\n",
      "accuracy(x_test', Y_test) = 0.7041\n",
      "accuracy(x_train', Y_train) = 0.7049666666666666\n",
      "accuracy(x_test', Y_test) = 0.7096\n",
      "accuracy(x_train', Y_train) = 0.7087\n",
      "accuracy(x_test', Y_test) = 0.7135\n",
      "accuracy(x_train', Y_train) = 0.7130333333333333\n",
      "accuracy(x_test', Y_test) = 0.718\n"
     ]
    }
   ],
   "source": [
    "# Define NN model\n",
    "model = Chain(Dense(d, 32, sigmoid),\n",
    "              Dense(32, 10), softmax)\n",
    "\n",
    "# Define loss function\n",
    "loss(x, y) = crossentropy(model(x), y) \n",
    "\n",
    "# Define optimizer\n",
    "optimiser = Descent(0.1)\n",
    "# optimiser = ADAM()\n",
    "\n",
    "# Create iterator to train model over 110 epochs. \n",
    "# 110 epochs gives a test (and train) accuracy of ~71% \n",
    "# when using gradient descent with lambda = 0.1. \n",
    "# Try going up to 500 epochs, or using other solvers\n",
    "# like ADAM, but this may take a while. \n",
    "dataset = Iterators.repeated((x_train', Y_train), 110)\n",
    "\n",
    "# Call back\n",
    "accuracy(x, y) = mean(onecold(model(x)) .== onecold(y))\n",
    "evalcb() = @show(accuracy(x_train', Y_train), accuracy(x_test', Y_test))\n",
    "\n",
    "# Train model on data set\n",
    "Flux.train!(loss, params(model), dataset, optimiser, cb = throttle(evalcb, 5))"
   ]
  },
  {
   "cell_type": "markdown",
   "metadata": {},
   "source": [
    "### Validate the model by applying it on to test data and measuring accuracy"
   ]
  },
  {
   "cell_type": "code",
   "execution_count": 6,
   "metadata": {},
   "outputs": [
    {
     "data": {
      "text/plain": [
       "10×10 Matrix{Int64}:\n",
       " 5616    12    33    84    27     3   101    13    30     4\n",
       "    0  6645    26    38     2     2    14     8     3     4\n",
       "  210   782  4039   294   137     0   234   187    65    10\n",
       "   86   335   168  4877     7    30    65   137   319   107\n",
       "   28   265    27    13  3916     0   101    72     2  1418\n",
       "  623   581    89  1793   313  1056   277   117   329   243\n",
       "  225   257   159   100   155    10  5009     0     2     1\n",
       "  131   417    54    11   159     0    12  5359     2   120\n",
       "  218  1131   134  1100    69    56   113   169  2485   376\n",
       "   98   300    62   122   826     0     7   657    22  3855"
      ]
     },
     "metadata": {},
     "output_type": "display_data"
    },
    {
     "data": {
      "text/plain": [
       "10×10 Matrix{Int64}:\n",
       " 936     0    7   14    5    0   14    1    3    0\n",
       "   0  1122    3    5    0    0    4    1    0    0\n",
       "  37   164  660   62   21    1   35   32   20    0\n",
       "   4    38   22  854    1    1    9   25   47    9\n",
       "   2    50    7    2  634    0   24    6    0  257\n",
       "  92    72   11  296   44  200   45   29   61   42\n",
       "  55    27   29   18   33    2  793    1    0    0\n",
       "  12    74   16    0   16    0    2  881    2   25\n",
       "  48   130   17  209   13    6   24   40  423   64\n",
       "  24    38   10   16  137    0    1   86    6  691"
      ]
     },
     "metadata": {},
     "output_type": "display_data"
    }
   ],
   "source": [
    "# Calculate confusion matrix on training and test data\n",
    "function confusion_matrix(X, y)\n",
    "    ŷ = onehotbatch(onecold(model(X)) .- 1, 0:9)\n",
    "    y * ŷ'\n",
    "end\n",
    "display(confusion_matrix(x_train', Y_train))\n",
    "display(confusion_matrix(x_test', Y_test))"
   ]
  },
  {
   "cell_type": "code",
   "execution_count": 7,
   "metadata": {},
   "outputs": [
    {
     "data": {
      "image/png": "[encoded data removed]",
      "text/plain": [
       "144×146 reinterpret(reshape, Gray{Float16}, ::Matrix{Float16}) with eltype Gray{Float16}:\n",
       " Gray{Float16}(1.0)  Gray{Float16}(0.0)  …  Gray{Float16}(1.0)\n",
       " Gray{Float16}(1.0)  Gray{Float16}(0.0)     Gray{Float16}(1.0)\n",
       " Gray{Float16}(1.0)  Gray{Float16}(0.0)     Gray{Float16}(1.0)\n",
       " Gray{Float16}(1.0)  Gray{Float16}(0.0)     Gray{Float16}(1.0)\n",
       " Gray{Float16}(1.0)  Gray{Float16}(0.0)     Gray{Float16}(1.0)\n",
       " Gray{Float16}(1.0)  Gray{Float16}(0.0)  …  Gray{Float16}(1.0)\n",
       " Gray{Float16}(1.0)  Gray{Float16}(0.0)     Gray{Float16}(1.0)\n",
       " Gray{Float16}(1.0)  Gray{Float16}(0.0)     Gray{Float16}(1.0)\n",
       " Gray{Float16}(1.0)  Gray{Float16}(0.0)     Gray{Float16}(1.0)\n",
       " Gray{Float16}(1.0)  Gray{Float16}(0.0)     Gray{Float16}(1.0)\n",
       " Gray{Float16}(1.0)  Gray{Float16}(0.0)  …  Gray{Float16}(1.0)\n",
       " Gray{Float16}(1.0)  Gray{Float16}(0.0)     Gray{Float16}(1.0)\n",
       " Gray{Float16}(1.0)  Gray{Float16}(0.0)     Gray{Float16}(1.0)\n",
       " ⋮                                       ⋱  ⋮\n",
       " Gray{Float16}(1.0)  Gray{Float16}(0.0)     Gray{Float16}(1.0)\n",
       " Gray{Float16}(1.0)  Gray{Float16}(0.0)     Gray{Float16}(1.0)\n",
       " Gray{Float16}(1.0)  Gray{Float16}(0.0)     Gray{Float16}(1.0)\n",
       " Gray{Float16}(1.0)  Gray{Float16}(0.0)  …  Gray{Float16}(1.0)\n",
       " Gray{Float16}(1.0)  Gray{Float16}(0.0)     Gray{Float16}(1.0)\n",
       " Gray{Float16}(1.0)  Gray{Float16}(0.0)     Gray{Float16}(1.0)\n",
       " Gray{Float16}(1.0)  Gray{Float16}(0.0)     Gray{Float16}(1.0)\n",
       " Gray{Float16}(1.0)  Gray{Float16}(0.0)     Gray{Float16}(1.0)\n",
       " Gray{Float16}(1.0)  Gray{Float16}(0.0)  …  Gray{Float16}(1.0)\n",
       " Gray{Float16}(1.0)  Gray{Float16}(0.0)     Gray{Float16}(1.0)\n",
       " Gray{Float16}(1.0)  Gray{Float16}(0.0)     Gray{Float16}(1.0)\n",
       " Gray{Float16}(1.0)  Gray{Float16}(0.0)     Gray{Float16}(1.0)"
      ]
     },
     "metadata": {},
     "output_type": "display_data"
    },
    {
     "data": {
      "text/plain": [
       "5×5 Matrix{Int64}:\n",
       " 3  4  6  4  6\n",
       " 2  2  1  3  4\n",
       " 3  1  1  7  8\n",
       " 7  3  2  5  8\n",
       " 2  5  6  4  4"
      ]
     },
     "metadata": {},
     "output_type": "display_data"
    },
    {
     "name": "stdout",
     "output_type": "stream",
     "text": [
      "Training accuracy = 71.42833333333334%\n",
      "Test accuracy = 71.94%\n"
     ]
    }
   ],
   "source": [
    "# Display a patch of randomly chosen images from the test set\n",
    "patchSize = 5\n",
    "randIndx = randperm(MersenneTwister(724629), size(x_test,1))\n",
    "randIndx = randIndx[1:patchSize^2] \n",
    "IM_test  = dispMNISTPatches(x_test[randIndx, :], patchSize)\n",
    "display(IM_test)\n",
    "\n",
    "# Predict outcome for test set\n",
    "yhat_test = onecold(model(x_test')) .- 1\n",
    "display(reshape(y_test[randIndx], patchSize, patchSize))\n",
    "\n",
    "# Print overall accuracy\n",
    "println(\"Training accuracy = \", accuracy(x_train', Y_train)*100, \"%\\nTest accuracy = \", accuracy(x_test', Y_test)*100, \"%\")"
   ]
  }
 ],
 "metadata": {
  "kernelspec": {
   "display_name": "Julia 1.6.0",
   "language": "julia",
   "name": "julia-1.6"
  },
  "language_info": {
   "file_extension": ".jl",
   "mimetype": "application/julia",
   "name": "julia",
   "version": "1.6.0"
  }
 },
 "nbformat": 4,
 "nbformat_minor": 2
}
