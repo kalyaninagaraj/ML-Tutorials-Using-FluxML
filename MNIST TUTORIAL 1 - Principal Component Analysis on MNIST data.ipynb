{
 "cells": [
  {
   "cell_type": "markdown",
   "metadata": {},
   "source": [
    "# TUTORIAL 1\n",
    "## Principal Component Analysis on MNIST data"
   ]
  },
  {
   "cell_type": "markdown",
   "metadata": {},
   "source": [
    "### Preliminaries"
   ]
  },
  {
   "cell_type": "code",
   "execution_count": 1,
   "metadata": {},
   "outputs": [
    {
     "data": {
      "text/plain": [
       "readclassjson (generic function with 1 method)"
      ]
     },
     "execution_count": 1,
     "metadata": {},
     "output_type": "execute_result"
    }
   ],
   "source": [
    "using LinearAlgebra, Random, Images, Statistics, Plots\n",
    "include(\"myJuliaLib/MNIST.jl\")  # contains function `MNIST2json`\n",
    "include(\"myJuliaLib/readclassjson.jl\") # contains function `readclassjson`"
   ]
  },
  {
   "cell_type": "markdown",
   "metadata": {},
   "source": [
    "### Convert MNIST binary files to JSON files "
   ]
  },
  {
   "cell_type": "code",
   "execution_count": 2,
   "metadata": {},
   "outputs": [
    {
     "data": {
      "text/plain": [
       "Dict{Any, Any} with 2 entries:\n",
       "  \"X\" => [0 0 … 0 0; 0 0 … 0 0; … ; 0 0 … 0 0; 0 0 … 0 0]\n",
       "  \"y\" => [7, 2, 1, 0, 4, 1, 4, 9, 5, 9  …  7, 8, 9, 0, 1, 2, 3, 4, 5, 6]"
      ]
     },
     "execution_count": 2,
     "metadata": {},
     "output_type": "execute_result"
    }
   ],
   "source": [
    "cd(@__DIR__)\n",
    "isfile(\"JSON/MNIST_train.json\") || MNIST2json()\n",
    "\n",
    "MNIST_train = readclassjson(\"JSON/MNIST_train.json\")\n",
    "MNIST_test  = readclassjson(\"JSON/MNIST_test.json\")"
   ]
  },
  {
   "cell_type": "markdown",
   "metadata": {},
   "source": [
    "### Embed data by scaling pixel values to appear on the [0,1] interval "
   ]
  },
  {
   "cell_type": "code",
   "execution_count": 3,
   "metadata": {},
   "outputs": [],
   "source": [
    "x_train = MNIST_train[\"X\"]/255\n",
    "x_test  = MNIST_test[\"X\"]/255\n",
    "y_train = MNIST_train[\"y\"]\n",
    "y_test  = MNIST_test[\"y\"];"
   ]
  },
  {
   "cell_type": "markdown",
   "metadata": {},
   "source": [
    "### Visualize randomly chosen entries from the MNIST dataset"
   ]
  },
  {
   "cell_type": "code",
   "execution_count": 4,
   "metadata": {},
   "outputs": [
    {
     "data": {
      "text/plain": [
       "display_patches (generic function with 1 method)"
      ]
     },
     "execution_count": 4,
     "metadata": {},
     "output_type": "execute_result"
    }
   ],
   "source": [
    "# This function display a patch of images randonly chosen from either the training or test data\n",
    "function display_patches(img, patchSize)\n",
    "    all_img = reshape(Float64.(ones(28*patchSize + patchSize - 1)), :, 1)\n",
    "    for j = 1:patchSize\n",
    "        # Rewrite first_n with next n columns\n",
    "        first_n = convert(Array, vec(img[(j-1)*patchSize+1:j*patchSize, :]'));  \n",
    "        for i in 1:patchSize-1\n",
    "            # place a row of white pixels between consecutive images\n",
    "            # bang operator (!) mutates original variable\n",
    "            splice!(first_n, (28^2)*i+1+28*(i-1):(28^2)*i+28*(i-1), Float64.(ones(28)))\n",
    "        end\n",
    "        first_n = permutedims(reshape(first_n, 28, :), (2,1))  \n",
    "        # `reshape` rearranges values in column-major order, whereas image pixels are read in row-major order\n",
    "\n",
    "        all_img = hcat(all_img, first_n, reshape(Float64.(ones(28*patchSize + patchSize - 1)), :, 1))\n",
    "    end    \n",
    "    return imPatch = colorview(Gray, Float16.(all_img))\n",
    "end"
   ]
  },
  {
   "cell_type": "code",
   "execution_count": 5,
   "metadata": {},
   "outputs": [
    {
     "data": {
      "image/png": "[encoded data removed]",
      "text/plain": [
       "57×59 reinterpret(reshape, Gray{Float16}, ::Matrix{Float16}) with eltype Gray{Float16}:\n",
       " Gray{Float16}(1.0)  Gray{Float16}(0.0)  …  Gray{Float16}(1.0)\n",
       " Gray{Float16}(1.0)  Gray{Float16}(0.0)     Gray{Float16}(1.0)\n",
       " Gray{Float16}(1.0)  Gray{Float16}(0.0)     Gray{Float16}(1.0)\n",
       " Gray{Float16}(1.0)  Gray{Float16}(0.0)     Gray{Float16}(1.0)\n",
       " Gray{Float16}(1.0)  Gray{Float16}(0.0)     Gray{Float16}(1.0)\n",
       " Gray{Float16}(1.0)  Gray{Float16}(0.0)  …  Gray{Float16}(1.0)\n",
       " Gray{Float16}(1.0)  Gray{Float16}(0.0)     Gray{Float16}(1.0)\n",
       " Gray{Float16}(1.0)  Gray{Float16}(0.0)     Gray{Float16}(1.0)\n",
       " Gray{Float16}(1.0)  Gray{Float16}(0.0)     Gray{Float16}(1.0)\n",
       " Gray{Float16}(1.0)  Gray{Float16}(0.0)     Gray{Float16}(1.0)\n",
       " Gray{Float16}(1.0)  Gray{Float16}(0.0)  …  Gray{Float16}(1.0)\n",
       " Gray{Float16}(1.0)  Gray{Float16}(0.0)     Gray{Float16}(1.0)\n",
       " Gray{Float16}(1.0)  Gray{Float16}(0.0)     Gray{Float16}(1.0)\n",
       " ⋮                                       ⋱  \n",
       " Gray{Float16}(1.0)  Gray{Float16}(0.0)  …  Gray{Float16}(1.0)\n",
       " Gray{Float16}(1.0)  Gray{Float16}(0.0)     Gray{Float16}(1.0)\n",
       " Gray{Float16}(1.0)  Gray{Float16}(0.0)     Gray{Float16}(1.0)\n",
       " Gray{Float16}(1.0)  Gray{Float16}(0.0)     Gray{Float16}(1.0)\n",
       " Gray{Float16}(1.0)  Gray{Float16}(0.0)     Gray{Float16}(1.0)\n",
       " Gray{Float16}(1.0)  Gray{Float16}(0.0)  …  Gray{Float16}(1.0)\n",
       " Gray{Float16}(1.0)  Gray{Float16}(0.0)     Gray{Float16}(1.0)\n",
       " Gray{Float16}(1.0)  Gray{Float16}(0.0)     Gray{Float16}(1.0)\n",
       " Gray{Float16}(1.0)  Gray{Float16}(0.0)     Gray{Float16}(1.0)\n",
       " Gray{Float16}(1.0)  Gray{Float16}(0.0)     Gray{Float16}(1.0)\n",
       " Gray{Float16}(1.0)  Gray{Float16}(0.0)  …  Gray{Float16}(1.0)\n",
       " Gray{Float16}(1.0)  Gray{Float16}(0.0)     Gray{Float16}(1.0)"
      ]
     },
     "execution_count": 5,
     "metadata": {},
     "output_type": "execute_result"
    }
   ],
   "source": [
    "# Display a patch of randomly chosen images from the training set\n",
    "patchSize = 2\n",
    "randIndx = randperm(MersenneTwister(737), size(x_train,1))\n",
    "randIndx = randIndx[1:patchSize^2] \n",
    "\n",
    "IM_orig = display_patches(x_train[randIndx, :], patchSize)"
   ]
  },
  {
   "cell_type": "markdown",
   "metadata": {},
   "source": [
    "### Perform PCA on test images to reduce the number of features"
   ]
  },
  {
   "cell_type": "code",
   "execution_count": 6,
   "metadata": {},
   "outputs": [
    {
     "data": {
      "image/png": "[encoded data removed]",
      "text/plain": [
       "57×59 reinterpret(reshape, Gray{Float16}, ::Matrix{Float16}) with eltype Gray{Float16}:\n",
       " Gray{Float16}(1.0)  Gray{Float16}(0.0)         …  Gray{Float16}(1.0)\n",
       " Gray{Float16}(1.0)  Gray{Float16}(-0.0)           Gray{Float16}(1.0)\n",
       " Gray{Float16}(1.0)  Gray{Float16}(0.0)            Gray{Float16}(1.0)\n",
       " Gray{Float16}(1.0)  Gray{Float16}(-0.0)           Gray{Float16}(1.0)\n",
       " Gray{Float16}(1.0)  Gray{Float16}(-0.0)           Gray{Float16}(1.0)\n",
       " Gray{Float16}(1.0)  Gray{Float16}(-0.0)        …  Gray{Float16}(1.0)\n",
       " Gray{Float16}(1.0)  Gray{Float16}(0.0)            Gray{Float16}(1.0)\n",
       " Gray{Float16}(1.0)  Gray{Float16}(-6.956e-5)      Gray{Float16}(1.0)\n",
       " Gray{Float16}(1.0)  Gray{Float16}(-0.000355)      Gray{Float16}(1.0)\n",
       " Gray{Float16}(1.0)  Gray{Float16}(-0.000521)      Gray{Float16}(1.0)\n",
       " Gray{Float16}(1.0)  Gray{Float16}(-0.000839)   …  Gray{Float16}(1.0)\n",
       " Gray{Float16}(1.0)  Gray{Float16}(-0.0006084)     Gray{Float16}(1.0)\n",
       " Gray{Float16}(1.0)  Gray{Float16}(-0.0003831)     Gray{Float16}(1.0)\n",
       " ⋮                                              ⋱  \n",
       " Gray{Float16}(1.0)  Gray{Float16}(3.15e-5)     …  Gray{Float16}(1.0)\n",
       " Gray{Float16}(1.0)  Gray{Float16}(0.0)            Gray{Float16}(1.0)\n",
       " Gray{Float16}(1.0)  Gray{Float16}(2.33e-5)        Gray{Float16}(1.0)\n",
       " Gray{Float16}(1.0)  Gray{Float16}(-6.0e-7)        Gray{Float16}(1.0)\n",
       " Gray{Float16}(1.0)  Gray{Float16}(0.0)            Gray{Float16}(1.0)\n",
       " Gray{Float16}(1.0)  Gray{Float16}(1.25e-6)     …  Gray{Float16}(1.0)\n",
       " Gray{Float16}(1.0)  Gray{Float16}(1.2e-6)         Gray{Float16}(1.0)\n",
       " Gray{Float16}(1.0)  Gray{Float16}(0.0)            Gray{Float16}(1.0)\n",
       " Gray{Float16}(1.0)  Gray{Float16}(0.0)            Gray{Float16}(1.0)\n",
       " Gray{Float16}(1.0)  Gray{Float16}(-0.0)           Gray{Float16}(1.0)\n",
       " Gray{Float16}(1.0)  Gray{Float16}(-0.0)        …  Gray{Float16}(1.0)\n",
       " Gray{Float16}(1.0)  Gray{Float16}(0.0)            Gray{Float16}(1.0)"
      ]
     },
     "execution_count": 6,
     "metadata": {},
     "output_type": "execute_result"
    }
   ],
   "source": [
    "# IMPLEMENT PCA\n",
    "# Demean the data and perform SVD\n",
    "x_demean = x_train .- mean(x_train, dims = 1) \n",
    "F = svd((x_demean' * x_demean) / size(x_demean, 1))\n",
    "\n",
    "# # ROTATE DATA AND CHECK ITS COVARIANCE\n",
    "# # Rotate original data and confirm that its covariance matrix is diagonal by plotting it\n",
    "xRot = x_demean * F.U\n",
    "# SigmaRot = (xRot' * xRot) / size(xRot, 1)\n",
    "# colorview(Gray, Float16.(SigmaRot))\n",
    "\n",
    "# FIND NUMBER OF COMPONEMTS TO RETAIN\n",
    "# Find k for which at least 99 percent of the variance is retained\n",
    "lambdas = cumsum(F.S)/sum(F.S)\n",
    "k = searchsortedfirst(lambdas, 0.99)\n",
    "\n",
    "# PCA WITH DIMENSION REDUCTION\n",
    "xPCA = x_demean * F.U[:,1:k] * F.U[:, 1:k]' \n",
    "IM_reducedim = display_patches(xPCA[randIndx, :], patchSize)"
   ]
  },
  {
   "cell_type": "code",
   "execution_count": 7,
   "metadata": {},
   "outputs": [
    {
     "data": {
      "image/png": "[encoded data removed]",
      "text/plain": [
       "57×59 reinterpret(reshape, Gray{Float16}, ::Matrix{Float16}) with eltype Gray{Float16}:\n",
       " Gray{Float16}(1.0)  Gray{Float16}(0.0)         …  Gray{Float16}(1.0)\n",
       " Gray{Float16}(1.0)  Gray{Float16}(0.0)            Gray{Float16}(1.0)\n",
       " Gray{Float16}(1.0)  Gray{Float16}(0.0)            Gray{Float16}(1.0)\n",
       " Gray{Float16}(1.0)  Gray{Float16}(0.0)            Gray{Float16}(1.0)\n",
       " Gray{Float16}(1.0)  Gray{Float16}(-0.0)           Gray{Float16}(1.0)\n",
       " Gray{Float16}(1.0)  Gray{Float16}(0.0)         …  Gray{Float16}(1.0)\n",
       " Gray{Float16}(1.0)  Gray{Float16}(0.0)            Gray{Float16}(1.0)\n",
       " Gray{Float16}(1.0)  Gray{Float16}(0.00044)        Gray{Float16}(1.0)\n",
       " Gray{Float16}(1.0)  Gray{Float16}(0.002287)       Gray{Float16}(1.0)\n",
       " Gray{Float16}(1.0)  Gray{Float16}(0.002897)       Gray{Float16}(1.0)\n",
       " Gray{Float16}(1.0)  Gray{Float16}(0.00378)     …  Gray{Float16}(1.0)\n",
       " Gray{Float16}(1.0)  Gray{Float16}(0.00171)        Gray{Float16}(1.0)\n",
       " Gray{Float16}(1.0)  Gray{Float16}(0.001354)       Gray{Float16}(1.0)\n",
       " ⋮                                              ⋱  \n",
       " Gray{Float16}(1.0)  Gray{Float16}(-0.0002167)  …  Gray{Float16}(1.0)\n",
       " Gray{Float16}(1.0)  Gray{Float16}(0.0)            Gray{Float16}(1.0)\n",
       " Gray{Float16}(1.0)  Gray{Float16}(-0.0003939)     Gray{Float16}(1.0)\n",
       " Gray{Float16}(1.0)  Gray{Float16}(-1.64e-5)       Gray{Float16}(1.0)\n",
       " Gray{Float16}(1.0)  Gray{Float16}(-0.0)           Gray{Float16}(1.0)\n",
       " Gray{Float16}(1.0)  Gray{Float16}(8.8e-6)      …  Gray{Float16}(1.0)\n",
       " Gray{Float16}(1.0)  Gray{Float16}(8.5e-6)         Gray{Float16}(1.0)\n",
       " Gray{Float16}(1.0)  Gray{Float16}(-0.0)           Gray{Float16}(1.0)\n",
       " Gray{Float16}(1.0)  Gray{Float16}(-0.0)           Gray{Float16}(1.0)\n",
       " Gray{Float16}(1.0)  Gray{Float16}(-0.0)           Gray{Float16}(1.0)\n",
       " Gray{Float16}(1.0)  Gray{Float16}(0.0)         …  Gray{Float16}(1.0)\n",
       " Gray{Float16}(1.0)  Gray{Float16}(-0.0)           Gray{Float16}(1.0)"
      ]
     },
     "execution_count": 7,
     "metadata": {},
     "output_type": "execute_result"
    }
   ],
   "source": [
    "# PCA WITH WHITENING AND REGULARIZATION. CHECK ITS COVARIANCE\n",
    "epsilon = 0.01\n",
    "xPCAwhite = x_demean * F.U * diagm(0 => 1 ./ sqrt.(F.S .+ epsilon))\n",
    "# colorview(Gray, Float16.(xPCAwhite' * xPCAwhite) / size(xPCAwhite, 1))\n",
    "\n",
    "# ZCA WITH WHITENING AND REGULARIZATION. CHECK ITS COVARIANCE\n",
    "xZCAwhite = xPCAwhite * F.U'\n",
    "\n",
    "# Visualize xZCAwhite versus original data\n",
    "IM_ZCAwhite = display_patches(xZCAwhite[randIndx, :], patchSize)"
   ]
  }
 ],
 "metadata": {
  "kernelspec": {
   "display_name": "Julia 1.6.0",
   "language": "julia",
   "name": "julia-1.6"
  },
  "language_info": {
   "file_extension": ".jl",
   "mimetype": "application/julia",
   "name": "julia",
   "version": "1.6.0"
  }
 },
 "nbformat": 4,
 "nbformat_minor": 2
}
